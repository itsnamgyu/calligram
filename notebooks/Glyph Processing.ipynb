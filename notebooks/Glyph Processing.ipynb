{
 "cells": [
  {
   "cell_type": "code",
   "execution_count": 237,
   "metadata": {},
   "outputs": [],
   "source": [
    "import glob\n",
    "import re\n",
    "from collections import defaultdict\n",
    "import pandas\n",
    "import shutil\n",
    "import os\n",
    "import tqdm"
   ]
  },
  {
   "cell_type": "code",
   "execution_count": 2,
   "metadata": {},
   "outputs": [],
   "source": [
    "paths = glob.glob(\"/Users/itsnamgyu/Downloads/HW/**/*.tif\", recursive=True)"
   ]
  },
  {
   "cell_type": "code",
   "execution_count": 3,
   "metadata": {
    "scrolled": true
   },
   "outputs": [],
   "source": [
    "re_path = re.compile(\".*/set ([0-9]{2})/char_data/(.{4})/.*HIL_[0-9]{3}_([0-9]{4})_([0-9]{4})_.*.tif\")"
   ]
  },
  {
   "cell_type": "code",
   "execution_count": 204,
   "metadata": {},
   "outputs": [],
   "source": [
    "character_sets = defaultdict(set)  # list of sets\n",
    "all_matches = list() # [(dataset, char, set_index, set_sequence)]\n",
    "original_paths = dict() # \"<dataset><char><setindex><setsequence>\"\n",
    "for path in paths:\n",
    "    match = re_path.match(path)\n",
    "    match = match.groups()\n",
    "    all_matches.append(match)\n",
    "    dataset, char, set_index, set_sequence = match\n",
    "    original_paths[\"\".join(match)] = path\n",
    "    character_sets[dataset].add(char)"
   ]
  },
  {
   "cell_type": "code",
   "execution_count": 5,
   "metadata": {},
   "outputs": [],
   "source": [
    "common_set = character_sets[\"01\"]\n",
    "total_set = set()\n",
    "for s in character_sets.values():\n",
    "    common_set = common_set.intersection(s)\n",
    "    total_set = total_set.union(s)"
   ]
  },
  {
   "cell_type": "code",
   "execution_count": 6,
   "metadata": {},
   "outputs": [
    {
     "data": {
      "text/plain": [
       "1800"
      ]
     },
     "execution_count": 6,
     "metadata": {},
     "output_type": "execute_result"
    }
   ],
   "source": [
    "len(common_set)"
   ]
  },
  {
   "cell_type": "code",
   "execution_count": 7,
   "metadata": {},
   "outputs": [
    {
     "name": "stdout",
     "output_type": "stream",
     "text": [
      "01 1800\n",
      "02 2447\n",
      "03 2447\n",
      "04 2446\n",
      "05 2446\n",
      "06 2447\n",
      "07 2447\n",
      "08 2447\n",
      "09 2447\n"
     ]
    }
   ],
   "source": [
    "# Char counts\n",
    "for key, s in sorted(character_sets.items()):\n",
    "    print(key, len(s))"
   ]
  },
  {
   "cell_type": "code",
   "execution_count": 8,
   "metadata": {},
   "outputs": [
    {
     "name": "stdout",
     "output_type": "stream",
     "text": [
      "02 set()\n",
      "03 set()\n",
      "04 {'005F'}\n",
      "05 {'005F'}\n",
      "06 set()\n",
      "07 set()\n",
      "08 set()\n",
      "09 set()\n"
     ]
    }
   ],
   "source": [
    "# Missing chars (excluding 01)\n",
    "for key, s in sorted(character_sets.items()):\n",
    "    if key == \"01\":\n",
    "        continue\n",
    "    print(key, total_set - s)"
   ]
  },
  {
   "cell_type": "code",
   "execution_count": 9,
   "metadata": {},
   "outputs": [],
   "source": [
    "def hex_to_char(h):\n",
    "    return chr(int(h, 16))"
   ]
  },
  {
   "cell_type": "code",
   "execution_count": 10,
   "metadata": {},
   "outputs": [],
   "source": [
    "s = common_set - character_sets[\"01\"]"
   ]
  },
  {
   "cell_type": "code",
   "execution_count": 89,
   "metadata": {},
   "outputs": [
    {
     "name": "stdout",
     "output_type": "stream",
     "text": [
      "!\"#$%&'()*+,-.0123456789:;<=>?@ABCDEFGHIJKLMNOPQRSTUVWXYZ[\\]^_abcdefghijklmnopqrstuvwxyz{}~Σαβδεσ가각간갇갈갉갊감갑값갓갔강갖갗같갚갛개객갠갤갬갭갯갰갱갸갹갼걀걋걍걔걘걜거걱건걷걸걺검겁것겄겅겆겉겊겋게겐겔겜겝겟겠겡겨격겪견겯결겸겹겻겼경곁계곈곌곕곗고곡곤곧골곪곬곯곰곱곳공곶과곽관괄괆괌괍괏광괘괜괠괩괬괭괴괵괸괼굄굅굇굉교굔굘굡굣구국군굳굴굵굶굻굼굽굿궁궂궈궉권궐궜궝궤궷귀귁귄귈귐귑귓규균귤그극근귿글긁금급긋긍긔기긱긴긷길긺김깁깃깅깆깊까깍깎깐깔깖깜깝깟깠깡깥깨깩깬깰깸깹깻깼깽꺄꺅꺌꺼꺽꺾껀껄껌껍껏껐껑께껙껜껨껫껭껴껸껼꼇꼈꼍꼐꼬꼭꼰꼲꼴꼼꼽꼿꽁꽂꽃꽈꽉꽐꽜꽝꽤꽥꽹꾀꾄꾈꾐꾑꾕꾜꾸꾹꾼꿀꿇꿈꿉꿋꿍꿎꿔꿜꿨꿩꿰꿱꿴꿸뀀뀁뀄뀌뀐뀔뀜뀝뀨끄끅끈끊끌끎끓끔끕끗끙끝끼끽낀낄낌낍낏낑나낙낚난낟날낡낢남납낫났낭낮낯낱낳내낵낸낼냄냅냇냈냉냐냑냔냘냠냥너넉넋넌널넒넓넘넙넛넜넝넣네넥넨넬넴넵넷넸넹녀녁년녈념녑녔녕녘녜녠노녹논놀놂놈놉놋농높놓놔놘놜놨뇌뇐뇔뇜뇝뇟뇨뇩뇬뇰뇹뇻뇽누눅눈눋눌눔눕눗눙눠눴눼뉘뉜뉠뉨뉩뉴뉵뉼늄늅늉느늑는늘늙늚늠늡늣능늦늪늬늰늴니닉닌닐닒님닙닛닝닢다닥닦단닫달닭닮닯닳담답닷닸당닺닻닿대댁댄댈댐댑댓댔댕댜더덕덖던덛덜덞덟덤덥덧덩덫덮데덱덴델뎀뎁뎃뎄뎅뎌뎐뎔뎠뎡뎨뎬도독돈돋돌돎돐돔돕돗동돛돝돠돤돨돼됐되된될됨됩됫됴두둑둔둘둠둡둣둥둬뒀뒈뒝뒤뒨뒬뒵뒷뒹듀듄듈듐듕드득든듣들듦듬듭듯등듸디딕딘딛딜딤딥딧딨딩딪따딱딴딸땀땁땃땄땅땋때땍땐땔땜땝땟땠땡떠떡떤떨떪떫떰떱떳떴떵떻떼떽뗀뗄뗌뗍뗏뗐뗑뗘뗬또똑똔똘똥똬똴뙈뙤뙨뚜뚝뚠뚤뚫뚬뚱뛔뛰뛴뛸뜀뜁뜅뜨뜩뜬뜯뜰뜸뜹뜻띄띈띌띔띕띠띤띨띰띱띳띵라락란랄람랍랏랐랑랒랖랗래랙랜랠램랩랫랬랭랴략랸럇량러럭런럴럼럽럿렀렁렇레렉렌렐렘렙렛렝려력련렬렴렵렷렸령례롄롑롓로록론롤롬롭롯롱롸롼뢍뢨뢰뢴뢸룀룁룃룅료룐룔룝룟룡루룩룬룰룸룹룻룽뤄뤘뤠뤼뤽륀륄륌륏륑류륙륜률륨륩륫륭르륵른를름릅릇릉릊릍릎리릭린릴림립릿링마막만많맏말맑맒맘맙맛망맞맡맣매맥맨맬맴맵맷맸맹맺먀먁먈먕머먹먼멀멂멈멉멋멍멎멓메멕멘멜멤멥멧멨멩며멱면멸몃몄명몇몌모목몫몬몰몲몸몹못몽뫄뫈뫘뫙뫼묀묄묍묏묑묘묜묠묩묫무묵묶문묻물묽묾뭄뭅뭇뭉뭍뭏뭐뭔뭘뭡뭣뭬뮈뮌뮐뮤뮨뮬뮴뮷므믄믈믐믓미믹민믿밀밂밈밉밋밌밍및밑바박밖밗반받발밝밞밟밤밥밧방밭배백밴밸뱀뱁뱃뱄뱅뱉뱌뱍뱐뱝버벅번벋벌벎범법벗벙벚베벡벤벧벨벰벱벳벴벵벼벽변별볍볏볐병볕볘볜보복볶본볼봄봅봇봉봐봔봤봬뵀뵈뵉뵌뵐뵘뵙뵤뵨부북분붇불붉붊붐붑붓붕붙붚붜붤붰붸뷔뷕뷘뷜뷩뷰뷴뷸븀븃븅브븍븐블븜븝븟비빅빈빌빎빔빕빗빙빚빛빠빡빤빨빪빰빱빳빴빵빻빼빽뺀뺄뺌뺍뺏뺐뺑뺘뺙뺨뻐뻑뻔뻗뻘뻠뻣뻤뻥뻬뼁뼈뼉뼘뼙뼛뼜뼝뽀뽁뽄뽈뽐뽑뽕뾔뾰뿅뿌뿍뿐뿔뿜뿟뿡쀼쁑쁘쁜쁠쁨쁩삐삑삔삘삠삡삣삥사삭삯산삳살삵삶삼삽삿샀상샅새색샌샐샘샙샛샜생샤샥샨샬샴샵샷샹섀섄섈섐섕서석섞섟선섣설섦섧섬섭섯섰성섶세섹센셀셈셉셋셌셍셔셕션셜셤셥셧셨셩셰셴셸솅소속솎손솔솖솜솝솟송솥솨솩솬솰솽쇄쇈쇌쇔쇗쇘쇠쇤쇨쇰쇱쇳쇼쇽숀숄숌숍숏숑수숙순숟술숨숩숫숭숯숱숲숴쉈쉐쉑쉔쉘쉠쉥쉬쉭쉰쉴쉼쉽쉿슁슈슉슐슘슛슝스슥슨슬슭슴습슷승시식신싣실싫심십싯싱싶싸싹싻싼쌀쌈쌉쌌쌍쌓쌔쌕쌘쌜쌤쌥쌨쌩썅써썩썬썰썲썸썹썼썽쎄쎈쎌쏀쏘쏙쏜쏟쏠쏢쏨쏩쏭쏴쏵쏸쐈쐐쐤쐬쐰쐴쐼쐽쑈쑤쑥쑨쑬쑴쑵쑹쒀쒔쒜쒸쒼쓩쓰쓱쓴쓸쓺쓿씀씁씌씐씔씜씨씩씬씰씸씹씻씽아악안앉않알앍앎앓암압앗았앙앝앞애액앤앨앰앱앳앴앵야약얀얄얇얌얍얏양얕얗얘얜얠얩어억언얹얻얼얽얾엄업없엇었엉엊엌엎에엑엔엘엠엡엣엥여역엮연열엶엷염엽엾엿였영옅옆옇예옌옐옘옙옛옜오옥온올옭옮옰옳옴옵옷옹옻와왁완왈왐왑왓왔왕왜왝왠왬왯왱외왹왼욀욈욉욋욍요욕욘욜욤욥욧용우욱운울욹욺움웁웃웅워웍원월웜웝웠웡웨웩웬웰웸웹웽위윅윈윌윔윕윗윙유육윤율윰윱윳융윷으윽은을읊음읍읏응읒읓읔읕읖읗의읜읠읨읫이익인일읽읾잃임입잇있잉잊잎자작잔잖잗잘잚잠잡잣잤장잦재잭잰잴잼잽잿쟀쟁쟈쟉쟌쟎쟐쟘쟝쟤쟨쟬저적전절젊점접젓정젖제젝젠젤젬젭젯젱져젼졀졈졉졌졍졔조족존졸졺좀좁좃종좆좇좋좌좍좔좝좟좡좨좼좽죄죈죌죔죕죗죙죠죡죤죵주죽준줄줅줆줌줍줏중줘줬줴쥐쥑쥔쥘쥠쥡쥣쥬쥰쥴쥼즈즉즌즐즘즙즛증지직진짇질짊짐집짓징짖짙짚짜짝짠짢짤짧짬짭짯짰짱째짹짼쨀쨈쨉쨋쨌쨍쨔쨘쨩쩌쩍쩐쩔쩜쩝쩟쩠쩡쩨쩽쪄쪘쪼쪽쫀쫄쫌쫍쫏쫑쫓쫘쫙쫠쫬쫴쬈쬐쬔쬘쬠쬡쭁쭈쭉쭌쭐쭘쭙쭝쭤쭸쭹쮜쮸쯔쯤쯧쯩찌찍찐찔찜찝찡찢찧차착찬찮찰참찹찻찼창찾채책챈챌챔챕챗챘챙챠챤챦챨챰챵처척천철첨첩첫첬청체첵첸첼쳄쳅쳇쳉쳐쳔쳤쳬쳰촁초촉촌촐촘촙촛총촤촨촬촹최쵠쵤쵬쵭쵯쵱쵸춈추축춘출춤춥춧충춰췄췌췐취췬췰췸췹췻췽츄츈츌츔츙츠측츤츨츰츱츳층치칙친칟칠칡침칩칫칭카칵칸칼캄캅캇캉캐캑캔캘캠캡캣캤캥캬캭컁커컥컨컫컬컴컵컷컸컹케켁켄켈켐켑켓켕켜켠켤켬켭켯켰켱켸코콕콘콜콤콥콧콩콰콱콴콸쾀쾅쾌쾡쾨쾰쿄쿠쿡쿤쿨쿰쿱쿳쿵쿼퀀퀄퀑퀘퀭퀴퀵퀸퀼큄큅큇큉큐큔큘큠크큭큰클큼큽킁키킥킨킬킴킵킷킹타탁탄탈탉탐탑탓탔탕태택탠탤탬탭탯탰탱탸턍터턱턴털턺텀텁텃텄텅테텍텐텔템텝텟텡텨텬텼톄톈토톡톤톨톰톱톳통톺톼퇀퇘퇴퇸툇툉툐투툭툰툴툼툽툿퉁퉈퉜퉤튀튁튄튈튐튑튕튜튠튤튬튱트특튼튿틀틂틈틉틋틔틘틜틤틥티틱틴틸팀팁팃팅파팍팎판팔팖팜팝팟팠팡팥패팩팬팰팸팹팻팼팽퍄퍅퍼퍽펀펄펌펍펏펐펑페펙펜펠펨펩펫펭펴편펼폄폅폈평폐폘폡폣포폭폰폴폼폽폿퐁퐈퐝푀푄표푠푤푭푯푸푹푼푿풀풂품풉풋풍풔풩퓌퓐퓔퓜퓟퓨퓬퓰퓸퓻퓽프픈플픔픕픗피픽핀필핌핍핏핑하학한할핥함합핫항해핵핸핼햄햅햇했행햐향허헉헌헐헒험헙헛헝헤헥헨헬헴헵헷헹혀혁현혈혐협혓혔형혜혠혤혭호혹혼홀홅홈홉홋홍홑화확환활홧황홰홱홴횃횅회획횐횔횝횟횡효횬횰횹횻후훅훈훌훑훔훗훙훠훤훨훰훵훼훽휀휄휑휘휙휜휠휨휩휫휭휴휵휸휼흄흇흉흐흑흔흖흗흘흙흠흡흣흥흩희흰흴흼흽힁히힉힌힐힘힙힛힝"
     ]
    }
   ],
   "source": [
    "# All characters\n",
    "for c in sorted(list(total_set)):\n",
    "    print(hex_to_char(c), end=\"\")"
   ]
  },
  {
   "cell_type": "code",
   "execution_count": 91,
   "metadata": {},
   "outputs": [
    {
     "name": "stdout",
     "output_type": "stream",
     "text": [
      "!\"#$%&'()*+,-.0123456789:;<=>?@ABCDEFGHIJKLMNOPQRSTUVWXYZ[\\]^_abcdefghijklmnopqrstuvwxyz{}~Σαβδεσ가각갇갈갉갊갰갱갸갹걔걜겐겟겠겡겨격겪겯결겸겹곕괬괭군굿권귄균그극귿긋긍긴깐깖깟깠깡깨깩꺼꺽꺾껐껑께껙꼐꽂꾀꿀꿇꿈꿉꿴뀄뀌끗끙난낫났낭낮내낵낼냐냑냘넒넓넛넣네넥넬녀녁녈녹놋농뇌뇨뇩뇰뇹눈뉜느늑늘늙늚늠늦늪닒닝댐댑덴뎀뎁돈돤돼됴두둑둘둠둡뒝뒤뒵듐디딛딜딤딥땀땁뗄뗌뗍뙤뚠뚱뜨뜩뜯띄띌띳띵라락란랏럇량러럭럴럼럽렀렁렇레렉렷렸령롓로록롤롬롭뢨뢰뢸룔룝뤘뤠륌르를릇릉릊링마막맏맣매맥맬맴맵먕멀멈멉며멱멸몃몄명몌뫄묏뭔뭣뭬뮐뮨뮷믓밑밖밗반밟밧방뱃뱄뱅뱌뱍번변볏복볼봄봅뵐뵘뵙뵨붓붕붜붤뷘블븜븝빈빰빱뺄뺌뺍뻠뼁뼈뼉뽕뾰뿔뿜쀼쁑쁘쁠쁩삔삣삥사삭삳살삵삼삽샐샘샙섕서석섞섣설섬섭셀셈셉셰셸솅소속솎쇌쇠쇨쇰쇱숀숏숱쉔쉬쉭슐슨슷승시식쌘쌨쌩썅썲썼썽쎈쏀쏢쏭쏴쏵쐼쐽쑨쒔쒜쒼씔씜씬안앉않앰앱얄얌얍엄업엌엡연엶엷엿였옇예옰옷왓왔왕왜왝욘욧용우욱울욹욺월웜웝윗윙유육율을음읍이익일읽읾잇있잉잊쟀쟁쟈쟉쟤쟬저적절젊젱져좟좡좨죔죕중줘쥴쥼즈즉직질짊짢짤짬짭짼쪄쫄쫌쫍쫠쬈쭝쭤쮸쯔찧차착채책챵쳇쳉쳤쳬촌쵠쵯추축출춥췐츔츤칸캅컨컷컸컹케켁켈켰켱켸코콕콜콤콥쾡쾨쾰퀭큉큰탄탠탯탰탱탸턍턴텐텟텡텨톤통톼퇘툐튀튈틀틈틉틤틥틴팀팁팰팸팹펐펑페펙펠펨펩편퐝푀푸푹푿풂풋풍퓌퓨퓰퓸프플피픽핑하학할함합향험헙혐혠홅홋홍홴훈훤훵훼훽휀휸흔흣흥희힐힘힙"
     ]
    }
   ],
   "source": [
    "# Missing chars in 01\n",
    "for c in sorted(total_set - character_sets[\"01\"]):\n",
    "    print(hex_to_char(c), end=\"\")"
   ]
  },
  {
   "cell_type": "code",
   "execution_count": 92,
   "metadata": {},
   "outputs": [
    {
     "name": "stdout",
     "output_type": "stream",
     "text": [
      "{'005F'}\n",
      "{'005F'}\n"
     ]
    }
   ],
   "source": [
    "# Missing chars\n",
    "print(total_set - character_sets[\"04\"])\n",
    "print(total_set - character_sets[\"05\"])"
   ]
  },
  {
   "cell_type": "markdown",
   "metadata": {},
   "source": [
    "## Set Analysis\n",
    "\n",
    "- Complete sets: 2, 3, 6, 7, 8, 9\n",
    "- Missing one: 4, 5\n",
    "- Missing many: 1"
   ]
  },
  {
   "cell_type": "code",
   "execution_count": 14,
   "metadata": {},
   "outputs": [],
   "source": [
    "data = defaultdict(list)\n",
    "for match in all_matches:\n",
    "    dataset, char, sid, sseq = match\n",
    "    data[\"dataset\"].append(dataset)\n",
    "    data[\"char\"].append(char)\n",
    "    data[\"set_id\"].append(sid)\n",
    "    data[\"set_seq\"].append(sseq)"
   ]
  },
  {
   "cell_type": "code",
   "execution_count": 15,
   "metadata": {},
   "outputs": [],
   "source": [
    "df = pandas.DataFrame(data)"
   ]
  },
  {
   "cell_type": "code",
   "execution_count": 317,
   "metadata": {},
   "outputs": [],
   "source": [
    "SET = \"09\""
   ]
  },
  {
   "cell_type": "code",
   "execution_count": 318,
   "metadata": {},
   "outputs": [
    {
     "name": "stdout",
     "output_type": "stream",
     "text": [
      "206557\n"
     ]
    }
   ],
   "source": [
    "df_set = df.loc[df.dataset == SET]\n",
    "print(len(df_set))"
   ]
  },
  {
   "cell_type": "code",
   "execution_count": 319,
   "metadata": {},
   "outputs": [],
   "source": [
    "charset = set(df_set.char.unique())"
   ]
  },
  {
   "cell_type": "code",
   "execution_count": 320,
   "metadata": {},
   "outputs": [],
   "source": [
    "char_counts = df_set.loc[df_set.char != \"005F\", \"char\"].value_counts()"
   ]
  },
  {
   "cell_type": "code",
   "execution_count": 321,
   "metadata": {
    "scrolled": true
   },
   "outputs": [
    {
     "data": {
      "text/plain": [
       "count    2446.000000\n",
       "mean       82.782093\n",
       "std        14.597936\n",
       "min        66.000000\n",
       "25%        79.000000\n",
       "50%        81.000000\n",
       "75%        82.000000\n",
       "max       162.000000\n",
       "Name: char, dtype: float64"
      ]
     },
     "execution_count": 321,
     "metadata": {},
     "output_type": "execute_result"
    }
   ],
   "source": [
    "char_counts.describe()"
   ]
  },
  {
   "cell_type": "code",
   "execution_count": 322,
   "metadata": {
    "scrolled": true
   },
   "outputs": [
    {
     "data": {
      "text/plain": [
       "<AxesSubplot:>"
      ]
     },
     "execution_count": 322,
     "metadata": {},
     "output_type": "execute_result"
    },
    {
     "data": {
      "image/png": "[encoded data removed]",
      "text/plain": [
       "<Figure size 432x288 with 1 Axes>"
      ]
     },
     "metadata": {
      "needs_background": "light"
     },
     "output_type": "display_data"
    }
   ],
   "source": [
    "char_counts.plot()"
   ]
  },
  {
   "cell_type": "code",
   "execution_count": 323,
   "metadata": {
    "scrolled": true
   },
   "outputs": [
    {
     "data": {
      "text/plain": [
       "82"
      ]
     },
     "execution_count": 323,
     "metadata": {},
     "output_type": "execute_result"
    }
   ],
   "source": [
    "len(df_set.loc[df.dataset == SET, \"set_id\"].unique())"
   ]
  },
  {
   "cell_type": "code",
   "execution_count": 324,
   "metadata": {
    "scrolled": true
   },
   "outputs": [
    {
     "data": {
      "text/plain": [
       "<AxesSubplot:xlabel='set_id'>"
      ]
     },
     "execution_count": 324,
     "metadata": {},
     "output_type": "execute_result"
    },
    {
     "data": {
      "image/png": "[encoded data removed]",
      "text/plain": [
       "<Figure size 432x288 with 1 Axes>"
      ]
     },
     "metadata": {
      "needs_background": "light"
     },
     "output_type": "display_data"
    }
   ],
   "source": [
    "chars_by_set = df_set.loc[:,[\"dataset\", \"char\", \"set_id\"]].groupby(\"set_id\").nunique()\n",
    "chars_by_set.plot()"
   ]
  },
  {
   "cell_type": "code",
   "execution_count": 325,
   "metadata": {},
   "outputs": [
    {
     "data": {
      "text/plain": [
       "<AxesSubplot:xlabel='char'>"
      ]
     },
     "execution_count": 325,
     "metadata": {},
     "output_type": "execute_result"
    },
    {
     "data": {
      "image/png": "[encoded data removed]",
      "text/plain": [
       "<Figure size 432x288 with 1 Axes>"
      ]
     },
     "metadata": {
      "needs_background": "light"
     },
     "output_type": "display_data"
    }
   ],
   "source": [
    "sets_by_char = df_set.loc[:,[\"dataset\", \"char\", \"set_id\"]].groupby(\"char\").nunique()\n",
    "sets_by_char.plot()"
   ]
  },
  {
   "cell_type": "markdown",
   "metadata": {},
   "source": [
    "## Output Files\n",
    "Only for complete sets (sets that contain all characters)"
   ]
  },
  {
   "cell_type": "code",
   "execution_count": null,
   "metadata": {
    "pycharm": {
     "name": "#%%\n"
    }
   },
   "outputs": [],
   "source": [
    "complete_sets = chars_by_set[chars_by_set.char == 2447].index"
   ]
  },
  {
   "cell_type": "code",
   "execution_count": null,
   "metadata": {
    "pycharm": {
     "name": "#%%\n"
    }
   },
   "outputs": [],
   "source": [
    "df_complete = df_set.loc[df_set.set_id.isin(set(complete_sets)),:]"
   ]
  },
  {
   "cell_type": "code",
   "execution_count": null,
   "metadata": {
    "pycharm": {
     "name": "#%%\n"
    }
   },
   "outputs": [],
   "source": [
    "OUTPUT_DIR = \"/Users/itsnamgyu/Desktop/HW_OUTPUT\"\n",
    "for set_id in tqdm.tqdm(complete_sets):\n",
    "    dfs = df_complete.loc[df_complete.set_id==set_id]\n",
    "    for char in charset:\n",
    "        values = dfs.loc[(dfs.char==char),:].values[0]\n",
    "        assert(values[1] == char)\n",
    "        key = \"\".join(values.tolist())\n",
    "        source_path = original_paths[key]\n",
    "        target_key = \"D{dataset}_S{set_id}\".format(dataset=values[0], set_id=values[2])\n",
    "        target_path = os.path.join(OUTPUT_DIR, target_key, \"{}.tif\".format(char))\n",
    "        os.makedirs(os.path.dirname(target_path), exist_ok=True)\n",
    "        shutil.copyfile(source_path, target_path)"
   ]
  },
  {
   "cell_type": "markdown",
   "metadata": {},
   "source": [
    "OUTPUT_DIR = \"/Users/itsnamgyu/Desktop/HW_OUTPUT\"\n",
    "for set_id in tqdm.tqdm(complete_sets):\n",
    "    dfs = df_complete.loc[df_complete.set_id==set_id]\n",
    "    for char in charset:\n",
    "        values = dfs.loc[(dfs.char==char),:].values[0]\n",
    "        assert(values[1] == char)\n",
    "        key = \"\".join(values.tolist())\n",
    "        source_path = original_paths[key]\n",
    "        target_key = \"D{dataset}_S{set_id}\".format(dataset=values[0], set_id=values[2])\n",
    "        target_path = os.path.join(OUTPUT_DIR, target_key, \"{}.tif\".format(char))\n",
    "        os.makedirs(os.path.dirname(target_path), exist_ok=True)\n",
    "        shutil.copyfile(source_path, target_path)"
   ]
  },
  {
   "cell_type": "code",
   "execution_count": 326,
   "metadata": {},
   "outputs": [],
   "source": [
    "complete_sets = chars_by_set[chars_by_set.char == 2447].index"
   ]
  },
  {
   "cell_type": "code",
   "execution_count": 327,
   "metadata": {},
   "outputs": [],
   "source": [
    "df_complete = df_set.loc[df_set.set_id.isin(set(complete_sets)),:]"
   ]
  },
  {
   "cell_type": "code",
   "execution_count": 328,
   "metadata": {
    "scrolled": false
   },
   "outputs": [
    {
     "name": "stderr",
     "output_type": "stream",
     "text": [
      "100%|██████████| 5/5 [00:36<00:00,  7.30s/it]\n"
     ]
    }
   ],
   "source": [
    "OUTPUT_DIR = \"/Users/itsnamgyu/Desktop/HW_OUTPUT\"\n",
    "for set_id in tqdm.tqdm(complete_sets):\n",
    "    dfs = df_complete.loc[df_complete.set_id==set_id]\n",
    "    for char in charset:\n",
    "        values = dfs.loc[(dfs.char==char),:].values[0]\n",
    "        assert(values[1] == char)\n",
    "        key = \"\".join(values.tolist())\n",
    "        source_path = original_paths[key]\n",
    "        target_key = \"D{dataset}_S{set_id}\".format(dataset=values[0], set_id=values[2])\n",
    "        target_path = os.path.join(OUTPUT_DIR, target_key, \"{}.tif\".format(char))\n",
    "        os.makedirs(os.path.dirname(target_path), exist_ok=True)\n",
    "        shutil.copyfile(source_path, target_path)"
   ]
  },
  {
   "cell_type": "code",
   "execution_count": null,
   "metadata": {},
   "outputs": [],
   "source": []
  }
 ],
 "metadata": {
  "kernelspec": {
   "display_name": "Python 3",
   "language": "python",
   "name": "python3"
  },
  "language_info": {
   "codemirror_mode": {
    "name": "ipython",
    "version": 3
   },
   "file_extension": ".py",
   "mimetype": "text/x-python",
   "name": "python",
   "nbconvert_exporter": "python",
   "pygments_lexer": "ipython3",
   "version": "3.7.3"
  }
 },
 "nbformat": 4,
 "nbformat_minor": 4
}
